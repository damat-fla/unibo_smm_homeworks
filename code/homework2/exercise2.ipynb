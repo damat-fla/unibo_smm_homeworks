{
 "cells": [
  {
   "cell_type": "code",
   "execution_count": 1517,
   "metadata": {},
   "outputs": [],
   "source": [
    "import numpy as np\n",
    "import pandas as pd\n",
    "import matplotlib.pyplot as plt"
   ]
  },
  {
   "cell_type": "code",
   "execution_count": 1518,
   "metadata": {},
   "outputs": [
    {
     "name": "stdout",
     "output_type": "stream",
     "text": [
      "Data shape: (42000, 785)\n"
     ]
    }
   ],
   "source": [
    "#load data\n",
    "data = pd.read_csv('./train.csv')\n",
    "print(f\"Data shape: {data.shape}\")"
   ]
  },
  {
   "cell_type": "code",
   "execution_count": 1519,
   "metadata": {},
   "outputs": [
    {
     "name": "stdout",
     "output_type": "stream",
     "text": [
      "Shape of the matrix X: (784, 42000) \n",
      "Shape of the matrix y: (42000,)\n",
      "Number of features: 784 \n",
      "Number of images: 42000\n"
     ]
    }
   ],
   "source": [
    "#split X and y\n",
    "data = data.to_numpy()\n",
    "np.random.shuffle(data)\n",
    "\n",
    "X = data[:, 1:].T\n",
    "y = data[:, 0]\n",
    "\n",
    "d, N = X.shape\n",
    "\n",
    "print(f\"Shape of the matrix X: {X.shape} \\nShape of the matrix y: {y.shape}\")\n",
    "print(f\"Number of features: {d} \\nNumber of images: {N}\")"
   ]
  },
  {
   "cell_type": "code",
   "execution_count": 1520,
   "metadata": {},
   "outputs": [
    {
     "data": {
      "image/png": "[encoded data removed]",
      "text/plain": [
       "<Figure size 640x480 with 1 Axes>"
      ]
     },
     "metadata": {},
     "output_type": "display_data"
    }
   ],
   "source": [
    "def visualize(X, Y, idx):\n",
    "\n",
    "    img = X[:, idx].reshape((28,28))\n",
    "\n",
    "    plt.imshow(img, cmap='gray')\n",
    "    plt.title(f\"Sample: {idx};     Label: {Y[idx]}\")\n",
    "    plt.show()\n",
    "\n",
    "idx = np.random.randint(0, N+1)\n",
    "visualize(X, y, idx)"
   ]
  },
  {
   "cell_type": "code",
   "execution_count": 1521,
   "metadata": {},
   "outputs": [
    {
     "name": "stdout",
     "output_type": "stream",
     "text": [
      "Filtered X shape: (784, 8423)\n",
      "Filtered Y shape: (8423,)\n"
     ]
    }
   ],
   "source": [
    "C1, C2 = 3,4\n",
    "idxs = (y==C1) | (y==C2) # create a True/False array\n",
    "filteredX = X[:, idxs] # return all the columns of X in which idxs is true\n",
    "filteredY = y[idxs]\n",
    "print(f\"Filtered X shape: {filteredX.shape}\")\n",
    "print(f\"Filtered Y shape: {filteredY.shape}\")"
   ]
  },
  {
   "cell_type": "code",
   "execution_count": 1522,
   "metadata": {},
   "outputs": [
    {
     "name": "stdout",
     "output_type": "stream",
     "text": [
      "Xtrain shape: (784, 6738) --- Xtest shape: (784, 1685)  \n",
      "ytrain shape: (6738,) --- ytest shape: (1685,)\n"
     ]
    }
   ],
   "source": [
    "def split_data(X, y, train_size):\n",
    "    _, N = X.shape # assumes data with shape (d, N)\n",
    "    \n",
    "    idxs = np.arange(N)\n",
    "    np.random.shuffle(idxs)\n",
    "\n",
    "    N_train = int(train_size*N) #number of training samples\n",
    "\n",
    "    train_idxs = idxs[:N_train]\n",
    "    test_idxs = idxs[N_train:]\n",
    "\n",
    "    Xtrain, Xtest, ytrain, ytest = X[:, train_idxs], X[:, test_idxs], y[train_idxs], y[test_idxs]\n",
    "\n",
    "    return Xtrain, Xtest, ytrain, ytest\n",
    "\n",
    "#split data in train and test\n",
    "Xtrain, Xtest, ytrain, ytest = split_data(filteredX, filteredY, train_size=0.8)\n",
    "\n",
    "print(f\"Xtrain shape: {Xtrain.shape} --- Xtest shape: {Xtest.shape}  \\nytrain shape: {ytrain.shape} --- ytest shape: {ytest.shape}\")\n"
   ]
  },
  {
   "cell_type": "code",
   "execution_count": 1523,
   "metadata": {},
   "outputs": [],
   "source": [
    "X1 = Xtrain[:, ytrain==C1]\n",
    "X2 = Xtrain[:, ytrain==C2]"
   ]
  },
  {
   "cell_type": "code",
   "execution_count": 1524,
   "metadata": {},
   "outputs": [
    {
     "name": "stdout",
     "output_type": "stream",
     "text": [
      "(784, 784) (784,) (784, 3473)\n",
      "(784, 784) (784,) (784, 3265)\n"
     ]
    }
   ],
   "source": [
    "# When full_matrices=False, VT is returned with shape min(m,n) x n. V is reduced to contain \n",
    "# only the columns or rows corresponding to non-zero singular values\n",
    "U1, s1, VT1 = np.linalg.svd(X1, full_matrices=False)\n",
    "print(U1.shape, s1.shape, VT1.shape)\n",
    "\n",
    "U2, s2, VT2 = np.linalg.svd(X2, full_matrices=False)\n",
    "print(U2.shape, s2.shape, VT2.shape)"
   ]
  },
  {
   "cell_type": "code",
   "execution_count": 1525,
   "metadata": {},
   "outputs": [
    {
     "data": {
      "image/png": "[encoded data removed]",
      "text/plain": [
       "<Figure size 1500x3000 with 3 Axes>"
      ]
     },
     "metadata": {},
     "output_type": "display_data"
    }
   ],
   "source": [
    "#np.random.seed(42)\n",
    "idx = np.random.randint(0, Xtest.shape[0])\n",
    "x = Xtest[:, idx] #x.shape = (784,)\n",
    "x1 = U1@(U1.T@x) # project x through U1\n",
    "x2 = U2@(U2.T@x) # project x through U2\n",
    "\n",
    "\n",
    "fig, axs = plt.subplots(figsize=(15,30), nrows=1, ncols=3, sharey=True)\n",
    "ax = axs[0]\n",
    "ax.imshow(x.reshape((28,28)), cmap='gray')\n",
    "ax.set_title('True image')\n",
    "ax = axs[1]\n",
    "ax.imshow(x1.reshape((28,28)), cmap='gray')\n",
    "ax.set_title('$x_1$')\n",
    "ax = axs[2]\n",
    "ax.imshow(x2.reshape((28,28)), cmap='gray')\n",
    "ax.set_title('$x_2$')\n",
    "plt.show()\n"
   ]
  },
  {
   "cell_type": "markdown",
   "metadata": {},
   "source": [
    "The images $x_1$ and $x_2$ obtained by projecting the real image, are very similar to the original one $x$. Indeed, the distances computed in the next cell are very small."
   ]
  },
  {
   "cell_type": "code",
   "execution_count": 1526,
   "metadata": {},
   "outputs": [
    {
     "name": "stdout",
     "output_type": "stream",
     "text": [
      "d1 = 5.126895170425466e-12 \n",
      "d2 = 3.69631547590965e-12\n",
      "Predicted class: 4\n"
     ]
    }
   ],
   "source": [
    "d1 = np.linalg.norm(x-x1, 2)\n",
    "d2 = np.linalg.norm(x-x2, 2)\n",
    "print(f'd1 = {d1} \\nd2 = {d2}')\n",
    "\n",
    "pred = C2 if d1>d2 else C1\n",
    "print(f'Predicted class: {pred}')"
   ]
  },
  {
   "cell_type": "code",
   "execution_count": 1527,
   "metadata": {},
   "outputs": [
    {
     "name": "stdout",
     "output_type": "stream",
     "text": [
      "(784, 1685)\n"
     ]
    }
   ],
   "source": [
    "# We now project the entire test set\n",
    "x1 = U1@(U1.T@Xtest) \n",
    "x2 = U2@(U2.T@Xtest)\n",
    "print(x1.shape)\n",
    "\n",
    "\n",
    "d1 = np.linalg.norm(Xtest-x1, 2, axis=0) # 1-dimensional array of shape (1685,)\n",
    "d2 = np.linalg.norm(Xtest-x2, 2, axis=0)\n",
    "\n",
    "\n",
    "pred = np.where(d1 > d2, C2, C1) # 1-dimensional array\n"
   ]
  },
  {
   "cell_type": "code",
   "execution_count": 1528,
   "metadata": {},
   "outputs": [
    {
     "name": "stdout",
     "output_type": "stream",
     "text": [
      "Accuracy: 80.77%\n"
     ]
    }
   ],
   "source": [
    "accuracy = np.mean(pred == ytest)\n",
    "print(f\"Accuracy: {accuracy * 100:.2f}%\")"
   ]
  },
  {
   "cell_type": "markdown",
   "metadata": {},
   "source": [
    "The following function compute the the SVD classification for two arbitrary digits $\\textit{class1}$ and $\\textit{class2}$. It returns the accuracy of classification for the two given digits."
   ]
  },
  {
   "cell_type": "code",
   "execution_count": 1549,
   "metadata": {},
   "outputs": [],
   "source": [
    "def SVD_classifier_2classes(data, labels, class1, class2, train_size):\n",
    "\n",
    "    #filter the dataset given the classes\n",
    "    C1, C2 = class1, class2\n",
    "    idxs = (labels==C1) | (labels==C2)\n",
    "    filteredX = data[:, idxs]\n",
    "    filteredY = labels[idxs]\n",
    "\n",
    "    #split data\n",
    "    Xtrain, Xtest, ytrain, ytest = split_data(filteredX, filteredY, train_size)\n",
    "\n",
    "    #obtain two subsets of the data each of them containing only observations of a specific class\n",
    "    X1 = Xtrain[:, ytrain==C1]\n",
    "    X2 = Xtrain[:, ytrain==C2]\n",
    "\n",
    "    #SVD decomposition\n",
    "    U1, s1, VT1 = np.linalg.svd(X1, full_matrices=False)\n",
    "    U2, s2, VT2 = np.linalg.svd(X2, full_matrices=False)\n",
    "\n",
    "    #projection\n",
    "    x1 = U1@(U1.T@Xtest)\n",
    "    x2 = U2@(U2.T@Xtest)\n",
    "\n",
    "\n",
    "    #compute distances\n",
    "    d1 = np.linalg.norm(Xtest-x1,2, axis=0)\n",
    "    d2 = np.linalg.norm(Xtest-x2,2, axis=0)\n",
    "\n",
    "    #predict\n",
    "    pred = np.where(d1 >= d2, C2, C1)\n",
    "    \n",
    "    #compute the accuracy\n",
    "    accuracy = np.mean(pred == ytest)\n",
    "\n",
    "    return pred, accuracy\n",
    "\n",
    "# we now use the classifier for each pair of digits\n",
    "digits = np.unique(y)\n",
    "pairs = [(i,j) for i in digits for j in digits if i<j]\n",
    "\n",
    "accuracy_list = []\n",
    "\n",
    "for digit1, digit2 in pairs:\n",
    "    _, accuracy = SVD_classifier_2classes(X, y, class1=digit1, class2=digit2, train_size=0.67)\n",
    "    accuracy_list.append((digit1, digit2,accuracy)) # list of tuples\n",
    "\n",
    "#build a 10x10 matrix with accuracies\n",
    "accuracy_matrix = np.zeros((10, 10))\n",
    "np.fill_diagonal(accuracy_matrix,1)\n",
    "for digit1, digit2, accuracy in accuracy_list:\n",
    "    accuracy_matrix[digit1, digit2] = accuracy\n",
    "    accuracy_matrix[digit2, digit1] = accuracy #symmetric matrix\n",
    "\n",
    "    "
   ]
  },
  {
   "cell_type": "markdown",
   "metadata": {},
   "source": [
    "In the previous cell has been computed the SVD classification for each pair of digits. The following graph shows the heatmap associated with the experiment: each item of the heatmap represents the accuracy of the SVD classification performed on the digits $i, j$ where $i \\in [0...9]$ and $j \\in [0...9]$"
   ]
  },
  {
   "cell_type": "code",
   "execution_count": 1550,
   "metadata": {},
   "outputs": [
    {
     "data": {
      "image/png": "[encoded data removed]",
      "text/plain": [
       "<Figure size 640x480 with 2 Axes>"
      ]
     },
     "metadata": {},
     "output_type": "display_data"
    }
   ],
   "source": [
    "plt.imshow(accuracy_matrix, interpolation=\"nearest\", cmap=\"viridis\")\n",
    "plt.colorbar(label=\"Accuracy\")\n",
    "plt.show()"
   ]
  },
  {
   "cell_type": "markdown",
   "metadata": {},
   "source": [
    "The heatmap shows that the algorithm is more accurate with visually different digits (like 0 and 1 for example). It is less accurate with visually similar digits"
   ]
  },
  {
   "cell_type": "markdown",
   "metadata": {},
   "source": [
    "The following function compute the the SVD classification for $n$ arbitrary digits. The digits must be specified in the parameter $\\textit{classes}$ that must be a numpy array. The function returns the accuracy of classification for the given digits."
   ]
  },
  {
   "cell_type": "code",
   "execution_count": 1552,
   "metadata": {},
   "outputs": [
    {
     "name": "stdout",
     "output_type": "stream",
     "text": [
      "Avarage accuracy on classes 1, 2, 0 is 71.00%\n",
      "Avarage accuracy on classes 4,9,7 is 53.21%\n"
     ]
    }
   ],
   "source": [
    "def SVD_classifier_kclasses(data, labels, classes, train_size):\n",
    "\n",
    "    #filter data\n",
    "    mask = np.isin(labels, classes) # check if each element in the array labels belongs to classes. Shape (N,)\n",
    "    filteredX = data[:, mask]\n",
    "    filteredY = labels[mask]\n",
    "\n",
    "    #split data (entire dataset)\n",
    "    Xtrain, Xtest, ytrain, ytest = split_data(filteredX, filteredY, train_size)\n",
    "\n",
    "    distances = []\n",
    "\n",
    "    for c in classes:\n",
    "\n",
    "        X_c_train = Xtrain[:, ytrain==c] # take all the training samples of class c\n",
    "\n",
    "        U, s, VT = np.linalg.svd(X_c_train, full_matrices=False) #SVD decomposition\n",
    "\n",
    "        x_c_proj = U@(U.T@Xtest) # projection\n",
    "\n",
    "        d = np.linalg.norm(Xtest-x_c_proj, 2, axis=0) # compute distances\n",
    "        distances.append(d) # append the vector d to the vector distances\n",
    "    \n",
    "    distances = np.array(distances) # shape: (num_classes, num_samples)\n",
    "\n",
    "    min_indices = np.argmin(distances, axis=0) # for each column argmin takes the INDEX of the row with minimum value, shape: (num_samples)\n",
    "    pred = classes[min_indices] # shape (num_samples.)\n",
    "\n",
    "    accuracy = np.mean(pred == ytest)\n",
    "\n",
    "    return accuracy\n",
    "\n",
    "pred012 = []\n",
    "pred497 = []\n",
    "\n",
    "for i in range(30): #repeat the experiment 30 times to get the avarage\n",
    "    pred012.append(SVD_classifier_kclasses(X, y, np.array([0,1,2]), 0.8))\n",
    "    pred497.append(SVD_classifier_kclasses(X, y, np.array([4,9,7]), 0.8))\n",
    "    \n",
    "print(f'Avarage accuracy on classes 1, 2, 0 is {(np.mean(np.array(pred012)))*100:.2f}%')\n",
    "print(f'Avarage accuracy on classes 4,9,7 is {(np.mean(np.array(pred497)))*100:.2f}%')"
   ]
  },
  {
   "cell_type": "markdown",
   "metadata": {},
   "source": [
    "### As we can see from the example above, if we choose 3 digits quite different each other (as 0, 1 and 2) we obtain a better accuracy compared with the case in which we choose 3 digits similar each other. In particular, if we visualize some images showing the number 4 and and the number 9, we can see they are almost the same. As a consequence, the SVD classifier has a very poor accuracy when using classes 4, 9 and 7."
   ]
  }
 ],
 "metadata": {
  "kernelspec": {
   "display_name": "tesi-env",
   "language": "python",
   "name": "python3"
  },
  "language_info": {
   "codemirror_mode": {
    "name": "ipython",
    "version": 3
   },
   "file_extension": ".py",
   "mimetype": "text/x-python",
   "name": "python",
   "nbconvert_exporter": "python",
   "pygments_lexer": "ipython3",
   "version": "3.10.7"
  }
 },
 "nbformat": 4,
 "nbformat_minor": 2
}
